{
 "cells": [
  {
   "cell_type": "code",
   "execution_count": 1,
   "metadata": {},
   "outputs": [],
   "source": [
    "import pandas as pd\n",
    "import numpy as np\n",
    "from GA_portfolio import Portfolio_Selection\n",
    "import matplotlib.pyplot as plt\n",
    "\n",
    "data = pd.read_excel('指数数据1.xlsx',sheet_name='对数收益率')\n",
    "data.index=data['日期']\n",
    "del data['日期']"
   ]
  },
  {
   "cell_type": "code",
   "execution_count": 6,
   "metadata": {},
   "outputs": [
    {
     "data": {
      "text/plain": [
       "[<matplotlib.lines.Line2D at 0x1a378caa970>]"
      ]
     },
     "execution_count": 6,
     "metadata": {},
     "output_type": "execute_result"
    },
    {
     "data": {
      "image/png": "[encoded data removed]",
      "text/plain": [
       "<Figure size 360x180 with 1 Axes>"
      ]
     },
     "metadata": {
      "needs_background": "light"
     },
     "output_type": "display_data"
    },
    {
     "data": {
      "image/png": "[encoded data removed]",
      "text/plain": [
       "<Figure size 360x180 with 1 Axes>"
      ]
     },
     "metadata": {
      "needs_background": "light"
     },
     "output_type": "display_data"
    }
   ],
   "source": [
    "# 计算最大迭代次数\n",
    "ps=Portfolio_Selection(data.values,s=1,period=2,money=2000,random_state=7)\n",
    "res=ps.cal_best_iter()\n",
    "\n",
    "\n",
    "plt.figure(figsize=(5,2.5))\n",
    "plt.figure(1)\n",
    "plt.plot(res[0])\n",
    "plt.figure(figsize=(5,2.5))\n",
    "plt.figure(2)\n",
    "plt.plot(res[1])"
   ]
  },
  {
   "cell_type": "markdown",
   "metadata": {},
   "source": [
    "##### 单期遗传算法"
   ]
  },
  {
   "cell_type": "code",
   "execution_count": null,
   "metadata": {},
   "outputs": [],
   "source": [
    "ps=Portfolio_Selection(data.values,s=1,period=2,money=2000,random_state=0)\n",
    "ps.fit()\n",
    "ps.get_sharpe()"
   ]
  },
  {
   "cell_type": "markdown",
   "metadata": {},
   "source": [
    "##### 多期遗传算法"
   ]
  },
  {
   "cell_type": "code",
   "execution_count": null,
   "metadata": {},
   "outputs": [],
   "source": [
    "ps=Portfolio_Selection(data.values,s=5,period=2,money=2000,random_state=1)\n",
    "ps.fit()\n",
    "ps.get_sharpe()"
   ]
  },
  {
   "cell_type": "code",
   "execution_count": null,
   "metadata": {},
   "outputs": [],
   "source": [
    "# 净值图\n",
    "plt.figure(figsize=(20,5))\n",
    "plt.plot(ps.moneys)"
   ]
  },
  {
   "cell_type": "code",
   "execution_count": null,
   "metadata": {},
   "outputs": [],
   "source": [
    "# 持仓图\n",
    "weights_series=list(np.array(ps.get_weights()).transpose(1,0))\n",
    "plt.figure(figsize=(20,5))\n",
    "for i in range(7):\n",
    "    plt.plot(weights_series[i])"
   ]
  },
  {
   "cell_type": "markdown",
   "metadata": {},
   "source": [
    "##### 数据描述性统计"
   ]
  },
  {
   "cell_type": "code",
   "execution_count": null,
   "metadata": {},
   "outputs": [],
   "source": [
    "data.corr()"
   ]
  },
  {
   "cell_type": "code",
   "execution_count": null,
   "metadata": {},
   "outputs": [],
   "source": [
    "data.describe()"
   ]
  }
 ],
 "metadata": {
  "interpreter": {
   "hash": "4be4ad0799630f280b3f01b0fcab49c13e50494123b6d132034c918b88a26620"
  },
  "kernelspec": {
   "display_name": "Python 3.8.1 64-bit",
   "language": "python",
   "name": "python3"
  },
  "language_info": {
   "codemirror_mode": {
    "name": "ipython",
    "version": 3
   },
   "file_extension": ".py",
   "mimetype": "text/x-python",
   "name": "python",
   "nbconvert_exporter": "python",
   "pygments_lexer": "ipython3",
   "version": "3.8.1"
  },
  "orig_nbformat": 4
 },
 "nbformat": 4,
 "nbformat_minor": 2
}
