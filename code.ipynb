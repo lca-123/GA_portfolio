{
 "cells": [
  {
   "cell_type": "code",
   "execution_count": null,
   "metadata": {},
   "outputs": [],
   "source": [
    "import pandas as pd\n",
    "import numpy as np\n",
    "from GA_portfolio import Portfolio_Selection\n",
    "import matplotlib.pyplot as plt\n",
    "import seaborn as sns\n",
    "\n",
    "plt.rcParams['font.sans-serif'] = ['SimHei']  # 用来正常显示中文标签\n",
    "plt.rcParams['axes.unicode_minus'] = False  # 用来正常显示负号\n",
    "\n",
    "data = pd.read_excel('指数数据1.xlsx',sheet_name='对数收益率')\n",
    "data.index=data['日期']\n",
    "del data['日期']"
   ]
  },
  {
   "cell_type": "markdown",
   "metadata": {},
   "source": [
    "##### 模型设定"
   ]
  },
  {
   "cell_type": "markdown",
   "metadata": {},
   "source": [
    "###### 初始候选解的生成"
   ]
  },
  {
   "cell_type": "code",
   "execution_count": null,
   "metadata": {},
   "outputs": [],
   "source": [
    "# 两种方法\n",
    "init_method=['dirichlet','softmax']\n",
    "plt.figure(figsize=(7,3.5))\n",
    "plt.figure(1)\n",
    "plt.title('init_method_mean')\n",
    "plt.ylabel('utility')\n",
    "plt.xlabel('num_iter')\n",
    "for i in init_method:\n",
    "    ps=Portfolio_Selection(data.values,s=1,period=2,candidates=10,\n",
    "        init_method=i,money=2000,random_state=0)\n",
    "    res=ps.cal_best_iter()\n",
    "    plt.plot(res[0])\n",
    "plt.legend(init_method)\n",
    "plt.savefig('figure/init_method_mean.png',dpi=600)\n",
    "\n",
    "plt.figure(figsize=(7,3.5))\n",
    "plt.figure(2)\n",
    "plt.title('init_method_std')\n",
    "plt.ylabel('utility')\n",
    "plt.xlabel('num_iter')\n",
    "for i in init_method:\n",
    "    ps=Portfolio_Selection(data.values,s=1,period=2,candidates=10,\n",
    "        init_method=i,money=2000,random_state=0)\n",
    "    res=ps.cal_best_iter()\n",
    "    plt.plot(res[1])\n",
    "plt.legend(init_method)\n",
    "plt.savefig('figure/init_method_std.png',dpi=600)"
   ]
  },
  {
   "cell_type": "markdown",
   "metadata": {},
   "source": [
    "###### 变异函数"
   ]
  },
  {
   "cell_type": "code",
   "execution_count": null,
   "metadata": {},
   "outputs": [],
   "source": [
    "# 变异方法\n",
    "mutate_method=['exchange','random_add']\n",
    "plt.figure(figsize=(7,3.5))\n",
    "plt.figure(1)\n",
    "plt.title('muate_method_mean')\n",
    "plt.ylabel('utility')\n",
    "plt.xlabel('num_iter')\n",
    "for i in mutate_method:\n",
    "    ps=Portfolio_Selection(data.values,s=1,period=2,candidates=10,\n",
    "        mutate_method=i,money=2000,random_state=0)\n",
    "    res=ps.cal_best_iter()\n",
    "    plt.plot(res[0])\n",
    "plt.legend(mutate_method)\n",
    "plt.savefig('figure/muate_method_mean.png',dpi=600)\n",
    "\n",
    "plt.figure(figsize=(7,3.5))\n",
    "plt.figure(2)\n",
    "plt.title('muate_method_std')\n",
    "plt.ylabel('utility')\n",
    "plt.xlabel('num_iter')\n",
    "for i in mutate_method:\n",
    "    ps=Portfolio_Selection(data.values,s=1,period=2,candidates=10,\n",
    "        mutate_method=i,money=2000,random_state=0)\n",
    "    res=ps.cal_best_iter()\n",
    "    plt.plot(res[1])\n",
    "plt.legend(mutate_method)\n",
    "plt.savefig('figure/muate_method_std.png',dpi=600)"
   ]
  },
  {
   "cell_type": "code",
   "execution_count": null,
   "metadata": {},
   "outputs": [],
   "source": [
    "# 变异率\n",
    "mutate_rate=[0,0.5,1.0]\n",
    "rand_=7\n",
    "plt.figure(figsize=(7,3.5))\n",
    "plt.figure(1)\n",
    "plt.title('muate_rate_mean')\n",
    "plt.ylabel('utility')\n",
    "plt.xlabel('num_iter')\n",
    "for i in mutate_rate:\n",
    "    ps=Portfolio_Selection(data.values,s=1,period=2,candidates=30,\n",
    "        mutate_rate=i,money=2000,random_state=rand_)\n",
    "    res=ps.cal_best_iter()\n",
    "    plt.plot(res[0])\n",
    "plt.legend(mutate_rate)\n",
    "plt.savefig('figure/muate_rate_mean.png',dpi=600)\n",
    "\n",
    "plt.figure(figsize=(7,3.5))\n",
    "plt.figure(2)\n",
    "plt.title('muate_rate_std')\n",
    "plt.ylabel('utility')\n",
    "plt.xlabel('num_iter')\n",
    "for i in mutate_rate:\n",
    "    ps=Portfolio_Selection(data.values,s=1,period=2,candidates=30,\n",
    "        mutate_rate=i,money=2000,random_state=rand_)\n",
    "    res=ps.cal_best_iter()\n",
    "    plt.plot(res[1])\n",
    "plt.legend(mutate_rate)\n",
    "plt.savefig('figure/muate_rate_std.png',dpi=600)"
   ]
  },
  {
   "cell_type": "markdown",
   "metadata": {},
   "source": [
    "###### T S period 的取值"
   ]
  },
  {
   "cell_type": "code",
   "execution_count": null,
   "metadata": {},
   "outputs": [],
   "source": [
    "# T & period\n",
    "Ts = [30,40,50,60,70,80]\n",
    "Ps = [1,2,3,6,9,12]\n",
    "\n",
    "arrs=[]\n",
    "for T in Ts:\n",
    "    arr=[]\n",
    "    for period in Ps:\n",
    "        ps=Portfolio_Selection(data.values,t=T,period=period,money=2000,random_state=0)\n",
    "        ps.fit()\n",
    "        arr.append(ps.get_sharpe())\n",
    "    arrs.append(arr)\n",
    "result = pd.DataFrame(arrs,index=Ts,columns=Ps)"
   ]
  },
  {
   "cell_type": "code",
   "execution_count": null,
   "metadata": {},
   "outputs": [],
   "source": [
    "# 绘制热力图\n",
    "sns.heatmap(result,annot=True,linewidths=0.1)\n",
    "plt.xlabel('period')\n",
    "plt.ylabel('T')\n",
    "plt.title('T vs period')\n",
    "plt.savefig('figure/T&period.png',dpi=600)"
   ]
  },
  {
   "cell_type": "code",
   "execution_count": null,
   "metadata": {},
   "outputs": [],
   "source": [
    "# s\n",
    "Ss=[1,5,10,15,20]\n",
    "arr=[]\n",
    "for s in Ss:\n",
    "    ps=Portfolio_Selection(data.values,s=s,t=60,period=2,money=2000,random_state=3)\n",
    "    ps.fit()\n",
    "    arr.append(ps.get_sharpe())"
   ]
  },
  {
   "cell_type": "code",
   "execution_count": null,
   "metadata": {},
   "outputs": [],
   "source": [
    "# 绘制对比图\n",
    "import scipy.interpolate as spi\n",
    "x=np.arange(1,21,1)\n",
    "ipo3=spi.splrep(Ss,arr,k=3)\n",
    "iy3=spi.splev(x,ipo3)\n",
    "\n",
    "plt.figure(figsize=(7,3.5))\n",
    "plt.xticks(Ss)\n",
    "plt.xlabel('s')\n",
    "plt.ylabel('utility')\n",
    "plt.title('s')\n",
    "plt.plot(Ss,arr,'ro')\n",
    "plt.plot(x,iy3,'b-')\n",
    "plt.savefig('figure/s.png',dpi=600)"
   ]
  },
  {
   "cell_type": "markdown",
   "metadata": {},
   "source": [
    "###### S的划分"
   ]
  },
  {
   "cell_type": "code",
   "execution_count": null,
   "metadata": {},
   "outputs": [],
   "source": [
    "ps_average=Portfolio_Selection(data.values,t=60,period=2,money=2000,random_state=1)\n",
    "ps_average.fit(s_method='average')\n",
    "ps_random=Portfolio_Selection(data.values,t=60,period=2,money=2000,random_state=0)\n",
    "ps_random.fit(s_method='random')\n",
    "sharpe_average=ps_average.get_sharpe()\n",
    "sharpe_random=ps_random.get_sharpe()"
   ]
  },
  {
   "cell_type": "code",
   "execution_count": null,
   "metadata": {},
   "outputs": [],
   "source": [
    "# 绘制净值图\n",
    "plt.figure(figsize=(7,3.5))\n",
    "plt.title('average_vs_random')\n",
    "plt.xlabel('date')\n",
    "plt.ylabel('assert_value')\n",
    "plt.plot(ps_average.moneys)\n",
    "plt.plot(ps_random.moneys)\n",
    "plt.legend(['average sharpe_ratio= '+str(sharpe_average)+'','random sharpe_ratio= '+str(sharpe_random)])\n",
    "plt.savefig('figure/s_average_vs_random.png',dpi=600)"
   ]
  },
  {
   "cell_type": "markdown",
   "metadata": {},
   "source": [
    "##### 选取最优参数"
   ]
  },
  {
   "cell_type": "markdown",
   "metadata": {},
   "source": [
    "###### 最大迭代次数"
   ]
  },
  {
   "cell_type": "code",
   "execution_count": null,
   "metadata": {},
   "outputs": [],
   "source": [
    "# 计算最大迭代次数\n",
    "ps=Portfolio_Selection(data.values,s=1,period=2,money=2000,random_state=7)\n",
    "res=ps.cal_best_iter()\n",
    "\n",
    "plt.figure(figsize=(7,3.5))\n",
    "plt.title('num_iter_mean')\n",
    "plt.ylabel('utility')\n",
    "plt.xlabel('num_iter')\n",
    "plt.figure(1)\n",
    "plt.plot(res[0])\n",
    "plt.savefig('figure/num_iter_mean.png',dpi=600)\n",
    "\n",
    "plt.figure(figsize=(7,3.5))\n",
    "plt.title('num_iter_std')\n",
    "plt.ylabel('utility')\n",
    "plt.xlabel('num_iter')\n",
    "plt.figure(2)\n",
    "plt.plot(res[1])\n",
    "plt.savefig('figure/num_iter_std.png',dpi=600)"
   ]
  },
  {
   "cell_type": "markdown",
   "metadata": {},
   "source": [
    "###### 候选解个数"
   ]
  },
  {
   "cell_type": "code",
   "execution_count": null,
   "metadata": {},
   "outputs": [],
   "source": [
    "# 计算最优候选解个数\n",
    "ps=Portfolio_Selection(data.values,s=1,period=2,money=2000,random_state=7)\n",
    "candidates_list=[30,35,40,45,50]\n",
    "res=ps.cal_best_candidates(candidates_list)\n",
    "\n",
    "plt.figure(figsize=(7,3.5))\n",
    "plt.title('num_candidates_mean')\n",
    "plt.ylabel('utility')\n",
    "plt.xlabel('num_iter')\n",
    "for i in range(len(candidates_list)):\n",
    "    plt.plot(res[0][i])\n",
    "plt.legend(candidates_list)\n",
    "plt.savefig('figure/num_candidates_mean.png',dpi=600)\n",
    "\n",
    "plt.figure(figsize=(7,3.5))\n",
    "plt.title('num_candidates_std')\n",
    "plt.ylabel('utility')\n",
    "plt.xlabel('num_iter')\n",
    "for i in range(len(candidates_list)):\n",
    "    plt.plot(res[1][i])\n",
    "plt.legend(candidates_list)\n",
    "plt.savefig('figure/num_candidates_std.png',dpi=600)"
   ]
  },
  {
   "cell_type": "markdown",
   "metadata": {},
   "source": [
    "##### 遗传算法"
   ]
  },
  {
   "cell_type": "markdown",
   "metadata": {},
   "source": [
    "###### 单期遗传算法vs多期遗传算法"
   ]
  },
  {
   "cell_type": "code",
   "execution_count": null,
   "metadata": {},
   "outputs": [],
   "source": [
    "ps_single=Portfolio_Selection(data.values,s=1,period=2,money=2000,random_state=2)\n",
    "ps_single.fit()\n",
    "sharpe_single=ps_single.get_sharpe()\n",
    "\n",
    "ps_dynamic=Portfolio_Selection(data.values,s=5,period=2,money=2000,random_state=2)\n",
    "ps_dynamic.fit()\n",
    "sharpe_dynamic=ps_dynamic.get_sharpe()"
   ]
  },
  {
   "cell_type": "code",
   "execution_count": null,
   "metadata": {},
   "outputs": [],
   "source": [
    "# 绘制净值图\n",
    "plt.figure(figsize=(7,3.5))\n",
    "plt.title('single_vs_dynamic')\n",
    "plt.xlabel('date')\n",
    "plt.ylabel('assert_value')\n",
    "plt.plot(ps_single.moneys)\n",
    "plt.plot(ps_dynamic.moneys)\n",
    "plt.legend(['single sharpe_ratio= '+str(sharpe_single)+'','dynamic sharpe_ratio= '+str(sharpe_dynamic)])\n",
    "plt.savefig('figure/single_vs_dynamic.png',dpi=600)"
   ]
  },
  {
   "cell_type": "code",
   "execution_count": null,
   "metadata": {},
   "outputs": [],
   "source": [
    "# 多期遗传算法持仓图\n",
    "weights_series=list(np.array(ps_dynamic.get_weights()).transpose(1,0))\n",
    "plt.figure(figsize=(20,5))\n",
    "for i in range(7):\n",
    "    plt.plot(weights_series[i])"
   ]
  },
  {
   "cell_type": "markdown",
   "metadata": {},
   "source": [
    "##### 数据描述性统计"
   ]
  },
  {
   "cell_type": "markdown",
   "metadata": {},
   "source": [
    "###### 相关系数矩阵"
   ]
  },
  {
   "cell_type": "code",
   "execution_count": null,
   "metadata": {},
   "outputs": [],
   "source": [
    "corr_data=data.corr().values\n",
    "plt.title('data_correlation_coefficient')\n",
    "plt.xticks(fontsize=7)\n",
    "plt.yticks(fontsize=7)\n",
    "sns.heatmap(corr_data,annot=True,linewidths=0.1,\n",
    "    xticklabels=list(data.columns),yticklabels=list(data.columns))\n",
    "plt.savefig('figure/data_corr.png',dpi=300)"
   ]
  },
  {
   "cell_type": "markdown",
   "metadata": {},
   "source": [
    "###### 描述性统计"
   ]
  },
  {
   "cell_type": "code",
   "execution_count": null,
   "metadata": {},
   "outputs": [],
   "source": [
    "data.describe().T"
   ]
  },
  {
   "cell_type": "markdown",
   "metadata": {},
   "source": [
    "##### 模型对比"
   ]
  },
  {
   "cell_type": "markdown",
   "metadata": {},
   "source": [
    "###### 净值图"
   ]
  },
  {
   "cell_type": "code",
   "execution_count": null,
   "metadata": {},
   "outputs": [],
   "source": [
    "ps_single=Portfolio_Selection(data.values,s=1,period=2,money=2000,random_state=2)\n",
    "ps_single.fit()\n",
    "sharpe_single=ps_single.get_sharpe()\n",
    "\n",
    "ps_dynamic=Portfolio_Selection(data.values,s=5,period=2,money=2000,random_state=2)\n",
    "ps_dynamic.fit()\n",
    "sharpe_dynamic=ps_dynamic.get_sharpe()\n",
    "\n",
    "ps_markowitz=Portfolio_Selection(data.values,s=1,period=2,money=2000,random_state=2)\n",
    "ps_markowitz.fit(method='markowitz')\n",
    "sharpe_markowitz=ps_markowitz.get_sharpe()\n",
    "\n",
    "ps_bayes=Portfolio_Selection(data.values,s=5,period=2,money=2000,random_state=2)\n",
    "ps_bayes.fit(method='bayes')\n",
    "sharpe_bayes=ps_bayes.get_sharpe()"
   ]
  },
  {
   "cell_type": "code",
   "execution_count": null,
   "metadata": {},
   "outputs": [],
   "source": [
    "# 绘制净值图\n",
    "plt.figure(figsize=(7,3.5))\n",
    "plt.title('model_comparsion')\n",
    "plt.xlabel('date')\n",
    "plt.ylabel('assert_value')\n",
    "plt.plot(ps_markowitz.moneys)\n",
    "plt.plot(ps_bayes.moneys)\n",
    "plt.plot(ps_single.moneys)\n",
    "plt.plot(ps_dynamic.moneys)\n",
    "plt.legend(['markowitz sharpe_ratio= '+str(round(sharpe_markowitz,4))+'',\n",
    "    'bayes sharpe_ratio= '+str(round(sharpe_bayes,4))+'',\n",
    "    'single sharpe_ratio= '+str(round(sharpe_single,4))+'',\n",
    "    'dynamic sharpe_ratio= '+str(round(sharpe_dynamic,4))])\n",
    "plt.savefig('figure/model_comparsion.png',dpi=600)"
   ]
  },
  {
   "cell_type": "markdown",
   "metadata": {},
   "source": [
    "###### 持仓方差图"
   ]
  },
  {
   "cell_type": "code",
   "execution_count": null,
   "metadata": {},
   "outputs": [],
   "source": [
    "markowitz_weights=ps_markowitz.get_weights()\n",
    "bayes_weights=ps_bayes.get_weights()\n",
    "single_weights=ps_single.get_weights()\n",
    "dynamic_weights=ps_dynamic.get_weights()\n",
    "\n",
    "arr=[list(np.std(markowitz_weights,axis=0)[0]),\n",
    "    list(np.std(bayes_weights,axis=0)[0]),\n",
    "    list(np.std(single_weights,axis=0)),\n",
    "    list(np.std(dynamic_weights,axis=0))]\n",
    "\n",
    "result=pd.DataFrame(arr,index=['markowitz','bayes','single','dynamic'],columns=data.columns)\n",
    "result['平均值']=np.mean(result,axis=1)\n",
    "\n",
    "plt.figure(figsize=(10,3))\n",
    "sns.heatmap(result,annot=True,linewidths=0.7)\n",
    "plt.savefig('figure/std_comparsion.png',dpi=600)"
   ]
  }
 ],
 "metadata": {
  "interpreter": {
   "hash": "4be4ad0799630f280b3f01b0fcab49c13e50494123b6d132034c918b88a26620"
  },
  "kernelspec": {
   "display_name": "Python 3.8.1 64-bit",
   "language": "python",
   "name": "python3"
  },
  "language_info": {
   "codemirror_mode": {
    "name": "ipython",
    "version": 3
   },
   "file_extension": ".py",
   "mimetype": "text/x-python",
   "name": "python",
   "nbconvert_exporter": "python",
   "pygments_lexer": "ipython3",
   "version": "3.8.1"
  },
  "orig_nbformat": 4
 },
 "nbformat": 4,
 "nbformat_minor": 2
}
